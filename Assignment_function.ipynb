{
 "cells": [
  {
   "cell_type": "markdown",
   "id": "02c2bfa0",
   "metadata": {},
   "source": [
    "Simple Function"
   ]
  },
  {
   "cell_type": "code",
   "execution_count": 23,
   "id": "66d8cba1",
   "metadata": {},
   "outputs": [
    {
     "name": "stdout",
     "output_type": "stream",
     "text": [
      "No discount applied.\n",
      "Final price: 6000.00\n"
     ]
    }
   ],
   "source": [
    "def calculate_discount(price, discount_percent):\n",
    "    if discount_percent >= 20:\n",
    "        discount_amount = price * (discount_percent / 100)\n",
    "        final_price = price - discount_amount\n",
    "        return final_price\n",
    "    else:\n",
    "        return price\n",
    "\n",
    "# Ask user for input (assumes input is valid)\n",
    "price = float(input(\"Enter the original price of the item: \"))\n",
    "discount_percent = float(input(\"Enter the discount percentage: \"))\n",
    "\n",
    "final_price = calculate_discount(price, discount_percent)\n",
    "\n",
    "if discount_percent >= 20:\n",
    "    print(\"Discount applied.\")\n",
    "else:\n",
    "    print(\"No discount applied.\")\n",
    "\n",
    "print(f\"Final price: {final_price:.2f}\")\n"
   ]
  }
 ],
 "metadata": {
  "kernelspec": {
   "display_name": "base",
   "language": "python",
   "name": "python3"
  },
  "language_info": {
   "codemirror_mode": {
    "name": "ipython",
    "version": 3
   },
   "file_extension": ".py",
   "mimetype": "text/x-python",
   "name": "python",
   "nbconvert_exporter": "python",
   "pygments_lexer": "ipython3",
   "version": "3.9.7"
  }
 },
 "nbformat": 4,
 "nbformat_minor": 5
}
